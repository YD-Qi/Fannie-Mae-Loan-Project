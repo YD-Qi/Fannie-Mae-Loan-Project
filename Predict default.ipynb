{
 "cells": [
  {
   "cell_type": "markdown",
   "metadata": {},
   "source": [
    "## import necessary packages"
   ]
  },
  {
   "cell_type": "code",
   "execution_count": 1,
   "metadata": {},
   "outputs": [],
   "source": [
    "## basics\n",
    "import seaborn as sns\n",
    "import pandas as pd\n",
    "import numpy as np\n",
    "import os\n",
    "import matplotlib.pyplot as plt\n",
    "import warnings; warnings.simplefilter('ignore')\n",
    "\n",
    "## data preprocessing\n",
    "from sklearn.preprocessing import Imputer\n",
    "from sklearn.preprocessing import OneHotEncoder, StandardScaler\n",
    "from sklearn.pipeline import Pipeline, FeatureUnion\n",
    "\n",
    "## models\n",
    "from sklearn.linear_model import LogisticRegression\n",
    "from sklearn.neighbors import KNeighborsClassifier\n",
    "from sklearn.tree import DecisionTreeClassifier\n",
    "from sklearn.naive_bayes import GaussianNB\n",
    "## ensemble\n",
    "from sklearn.ensemble import RandomForestClassifier, RandomForestRegressor\n",
    "from sklearn.ensemble import VotingClassifier\n",
    "from sklearn.ensemble import BaggingClassifier, BaggingRegressor\n",
    "from sklearn.ensemble import AdaBoostClassifier, AdaBoostRegressor\n",
    "from sklearn.ensemble import GradientBoostingClassifier, GradientBoostingRegressor\n",
    "import xgboost as xgb\n",
    "import lightgbm as lgb\n",
    "# import catboost as cb\n",
    "from mlxtend.classifier import StackingClassifier\n",
    "\n",
    "## model selection\n",
    "from sklearn.model_selection import train_test_split\n",
    "from sklearn.model_selection import cross_validate\n",
    "from sklearn.model_selection import RandomizedSearchCV\n",
    "from sklearn.model_selection import cross_val_score\n",
    "\n",
    "## model evaluation metrics\n",
    "from sklearn.metrics import classification_report\n",
    "from sklearn.metrics import confusion_matrix\n",
    "from sklearn.metrics import roc_auc_score\n",
    "from sklearn.metrics import roc_curve\n",
    "from sklearn.metrics import f1_score\n",
    "from sklearn.metrics import accuracy_score"
   ]
  },
  {
   "cell_type": "markdown",
   "metadata": {},
   "source": [
    "## Read the data"
   ]
  },
  {
   "cell_type": "code",
   "execution_count": 2,
   "metadata": {},
   "outputs": [],
   "source": [
    "df = pd.read_csv('/Volumes/Backup Plus/Documents/Data Science/Projects/fannieMae_project/processed_data/Fannie_loans.csv')"
   ]
  },
  {
   "cell_type": "code",
   "execution_count": 3,
   "metadata": {},
   "outputs": [
    {
     "data": {
      "text/plain": [
       "0.016885376097890665"
      ]
     },
     "execution_count": 3,
     "metadata": {},
     "output_type": "execute_result"
    }
   ],
   "source": [
    "df[\"Default\"].mean()"
   ]
  },
  {
   "cell_type": "code",
   "execution_count": 4,
   "metadata": {},
   "outputs": [
    {
     "data": {
      "text/html": [
       "<div>\n",
       "<style scoped>\n",
       "    .dataframe tbody tr th:only-of-type {\n",
       "        vertical-align: middle;\n",
       "    }\n",
       "\n",
       "    .dataframe tbody tr th {\n",
       "        vertical-align: top;\n",
       "    }\n",
       "\n",
       "    .dataframe thead th {\n",
       "        text-align: right;\n",
       "    }\n",
       "</style>\n",
       "<table border=\"1\" class=\"dataframe\">\n",
       "  <thead>\n",
       "    <tr style=\"text-align: right;\">\n",
       "      <th></th>\n",
       "      <th>Unnamed: 0</th>\n",
       "      <th>OrInterestRate</th>\n",
       "      <th>OrUnpaidPrinc</th>\n",
       "      <th>OrLoanTerm</th>\n",
       "      <th>OrLTV</th>\n",
       "      <th>OrCLTV</th>\n",
       "      <th>NumBorrowers</th>\n",
       "      <th>DTIRat</th>\n",
       "      <th>CreditScore</th>\n",
       "      <th>NumUnits</th>\n",
       "      <th>...</th>\n",
       "      <th>FTHomeBuyer</th>\n",
       "      <th>LoanPurpose</th>\n",
       "      <th>PropertyType</th>\n",
       "      <th>OccType</th>\n",
       "      <th>PropertyState</th>\n",
       "      <th>ProductType</th>\n",
       "      <th>RelocationMortgage</th>\n",
       "      <th>Zip</th>\n",
       "      <th>first_payment_year</th>\n",
       "      <th>loan_year</th>\n",
       "    </tr>\n",
       "  </thead>\n",
       "  <tbody>\n",
       "    <tr>\n",
       "      <th>0</th>\n",
       "      <td>0</td>\n",
       "      <td>8.500</td>\n",
       "      <td>82000</td>\n",
       "      <td>360</td>\n",
       "      <td>97.0</td>\n",
       "      <td>100.0</td>\n",
       "      <td>2.0</td>\n",
       "      <td>59.0</td>\n",
       "      <td>670.0</td>\n",
       "      <td>1</td>\n",
       "      <td>...</td>\n",
       "      <td>Y</td>\n",
       "      <td>P</td>\n",
       "      <td>CO</td>\n",
       "      <td>P</td>\n",
       "      <td>CA</td>\n",
       "      <td>FRM</td>\n",
       "      <td>N</td>\n",
       "      <td>927</td>\n",
       "      <td>2000</td>\n",
       "      <td>2000</td>\n",
       "    </tr>\n",
       "    <tr>\n",
       "      <th>1</th>\n",
       "      <td>1</td>\n",
       "      <td>7.875</td>\n",
       "      <td>165000</td>\n",
       "      <td>360</td>\n",
       "      <td>97.0</td>\n",
       "      <td>100.0</td>\n",
       "      <td>2.0</td>\n",
       "      <td>38.0</td>\n",
       "      <td>669.0</td>\n",
       "      <td>1</td>\n",
       "      <td>...</td>\n",
       "      <td>Y</td>\n",
       "      <td>P</td>\n",
       "      <td>CO</td>\n",
       "      <td>P</td>\n",
       "      <td>CA</td>\n",
       "      <td>FRM</td>\n",
       "      <td>N</td>\n",
       "      <td>926</td>\n",
       "      <td>2000</td>\n",
       "      <td>2000</td>\n",
       "    </tr>\n",
       "    <tr>\n",
       "      <th>2</th>\n",
       "      <td>2</td>\n",
       "      <td>8.375</td>\n",
       "      <td>137000</td>\n",
       "      <td>360</td>\n",
       "      <td>97.0</td>\n",
       "      <td>100.0</td>\n",
       "      <td>2.0</td>\n",
       "      <td>31.0</td>\n",
       "      <td>747.0</td>\n",
       "      <td>1</td>\n",
       "      <td>...</td>\n",
       "      <td>Y</td>\n",
       "      <td>P</td>\n",
       "      <td>SF</td>\n",
       "      <td>P</td>\n",
       "      <td>CA</td>\n",
       "      <td>FRM</td>\n",
       "      <td>N</td>\n",
       "      <td>919</td>\n",
       "      <td>2000</td>\n",
       "      <td>1999</td>\n",
       "    </tr>\n",
       "    <tr>\n",
       "      <th>3</th>\n",
       "      <td>3</td>\n",
       "      <td>7.625</td>\n",
       "      <td>113000</td>\n",
       "      <td>180</td>\n",
       "      <td>85.0</td>\n",
       "      <td>88.0</td>\n",
       "      <td>2.0</td>\n",
       "      <td>18.0</td>\n",
       "      <td>621.0</td>\n",
       "      <td>1</td>\n",
       "      <td>...</td>\n",
       "      <td>N</td>\n",
       "      <td>R</td>\n",
       "      <td>SF</td>\n",
       "      <td>P</td>\n",
       "      <td>RI</td>\n",
       "      <td>FRM</td>\n",
       "      <td>N</td>\n",
       "      <td>29</td>\n",
       "      <td>1999</td>\n",
       "      <td>1999</td>\n",
       "    </tr>\n",
       "    <tr>\n",
       "      <th>4</th>\n",
       "      <td>4</td>\n",
       "      <td>8.125</td>\n",
       "      <td>209000</td>\n",
       "      <td>360</td>\n",
       "      <td>97.0</td>\n",
       "      <td>100.0</td>\n",
       "      <td>2.0</td>\n",
       "      <td>64.0</td>\n",
       "      <td>672.0</td>\n",
       "      <td>1</td>\n",
       "      <td>...</td>\n",
       "      <td>Y</td>\n",
       "      <td>P</td>\n",
       "      <td>SF</td>\n",
       "      <td>P</td>\n",
       "      <td>CA</td>\n",
       "      <td>FRM</td>\n",
       "      <td>N</td>\n",
       "      <td>926</td>\n",
       "      <td>2000</td>\n",
       "      <td>1999</td>\n",
       "    </tr>\n",
       "  </tbody>\n",
       "</table>\n",
       "<p>5 rows × 26 columns</p>\n",
       "</div>"
      ],
      "text/plain": [
       "   Unnamed: 0  OrInterestRate  OrUnpaidPrinc  OrLoanTerm  OrLTV  OrCLTV  \\\n",
       "0           0           8.500          82000         360   97.0   100.0   \n",
       "1           1           7.875         165000         360   97.0   100.0   \n",
       "2           2           8.375         137000         360   97.0   100.0   \n",
       "3           3           7.625         113000         180   85.0    88.0   \n",
       "4           4           8.125         209000         360   97.0   100.0   \n",
       "\n",
       "   NumBorrowers  DTIRat  CreditScore  NumUnits  ...  FTHomeBuyer  LoanPurpose  \\\n",
       "0           2.0    59.0        670.0         1  ...            Y            P   \n",
       "1           2.0    38.0        669.0         1  ...            Y            P   \n",
       "2           2.0    31.0        747.0         1  ...            Y            P   \n",
       "3           2.0    18.0        621.0         1  ...            N            R   \n",
       "4           2.0    64.0        672.0         1  ...            Y            P   \n",
       "\n",
       "   PropertyType  OccType PropertyState ProductType RelocationMortgage  Zip  \\\n",
       "0            CO        P            CA         FRM                  N  927   \n",
       "1            CO        P            CA         FRM                  N  926   \n",
       "2            SF        P            CA         FRM                  N  919   \n",
       "3            SF        P            RI         FRM                  N   29   \n",
       "4            SF        P            CA         FRM                  N  926   \n",
       "\n",
       "  first_payment_year loan_year  \n",
       "0               2000      2000  \n",
       "1               2000      2000  \n",
       "2               2000      1999  \n",
       "3               1999      1999  \n",
       "4               2000      1999  \n",
       "\n",
       "[5 rows x 26 columns]"
      ]
     },
     "execution_count": 4,
     "metadata": {},
     "output_type": "execute_result"
    }
   ],
   "source": [
    "df.head()"
   ]
  },
  {
   "cell_type": "code",
   "execution_count": 5,
   "metadata": {},
   "outputs": [],
   "source": [
    "df_new=df.loc[df['loan_year']==2007]\n",
    "df_new=df_new.drop([\"Unnamed: 0\"], axis=1)\n",
    "df_new[\"MortInsType\"]=df_new[\"MortInsType\"].astype(\"category\")\n",
    "df_new[\"Zip\"]=df_new[\"Zip\"].astype(\"category\")\n",
    "df_new[\"first_payment_year\"]=df_new[\"first_payment_year\"].astype(\"category\")\n",
    "df_new[\"loan_year\"]=df_new[\"loan_year\"].astype(\"category\")"
   ]
  },
  {
   "cell_type": "code",
   "execution_count": 6,
   "metadata": {},
   "outputs": [
    {
     "data": {
      "text/plain": [
       "0.12629413038769763"
      ]
     },
     "execution_count": 6,
     "metadata": {},
     "output_type": "execute_result"
    }
   ],
   "source": [
    "df_new[\"Default\"].mean()"
   ]
  },
  {
   "cell_type": "code",
   "execution_count": 7,
   "metadata": {},
   "outputs": [
    {
     "data": {
      "text/plain": [
       "(92340, 25)"
      ]
     },
     "execution_count": 7,
     "metadata": {},
     "output_type": "execute_result"
    }
   ],
   "source": [
    "df_new.shape"
   ]
  },
  {
   "cell_type": "code",
   "execution_count": 8,
   "metadata": {},
   "outputs": [
    {
     "data": {
      "text/plain": [
       "(92340, 982)"
      ]
     },
     "execution_count": 8,
     "metadata": {},
     "output_type": "execute_result"
    }
   ],
   "source": [
    "df_new = pd.get_dummies(df_new, drop_first=True)\n",
    "df_new.shape"
   ]
  },
  {
   "cell_type": "code",
   "execution_count": 9,
   "metadata": {},
   "outputs": [],
   "source": [
    "# Get column names first\n",
    "names = df_new.columns\n",
    "# Create the Scaler object\n",
    "scaler = StandardScaler()\n",
    "# Fit your data on the scaler object\n",
    "scaled_df = scaler.fit_transform(df_new)\n",
    "scaled_df = pd.DataFrame(df_new, columns=names)"
   ]
  },
  {
   "cell_type": "code",
   "execution_count": 10,
   "metadata": {},
   "outputs": [],
   "source": [
    "y = scaled_df['Default'].values\n",
    "X = scaled_df.drop(['Default'], axis=1).values"
   ]
  },
  {
   "cell_type": "code",
   "execution_count": 11,
   "metadata": {},
   "outputs": [],
   "source": [
    "X_train, X_test, y_train, y_test = train_test_split(X, y, test_size = 0.25, random_state=0)"
   ]
  },
  {
   "cell_type": "markdown",
   "metadata": {},
   "source": [
    "### KNN model "
   ]
  },
  {
   "cell_type": "code",
   "execution_count": 12,
   "metadata": {},
   "outputs": [],
   "source": [
    "knn = KNeighborsClassifier(5)\n",
    "knn.fit(X_train, y_train)\n",
    "knn_pred=knn.predict(X_test)"
   ]
  },
  {
   "cell_type": "markdown",
   "metadata": {},
   "source": [
    "### decision tree model"
   ]
  },
  {
   "cell_type": "code",
   "execution_count": 13,
   "metadata": {},
   "outputs": [],
   "source": [
    "dt = DecisionTreeClassifier()\n",
    "dt.fit(X_train, y_train)\n",
    "dt_pred=dt.predict(X_test)"
   ]
  },
  {
   "cell_type": "markdown",
   "metadata": {},
   "source": [
    "### regular logistic model"
   ]
  },
  {
   "cell_type": "code",
   "execution_count": 14,
   "metadata": {},
   "outputs": [],
   "source": [
    "lr = LogisticRegression(random_state=1, class_weight=\"balanced\")\n",
    "lr.fit(X_train, y_train)\n",
    "lr_pred=lr.predict(X_test)"
   ]
  },
  {
   "cell_type": "markdown",
   "metadata": {},
   "source": [
    "### accuracy scores"
   ]
  },
  {
   "cell_type": "code",
   "execution_count": 15,
   "metadata": {},
   "outputs": [
    {
     "name": "stdout",
     "output_type": "stream",
     "text": [
      "0.8553173056097033\n",
      "0.8180203595408274\n",
      "0.6409356725146199\n"
     ]
    }
   ],
   "source": [
    "a_score_knn=accuracy_score(y_test, knn_pred)\n",
    "a_score_dt=accuracy_score(y_test, dt_pred)\n",
    "a_score_lr=accuracy_score(y_test, lr_pred)\n",
    "\n",
    "# Print the accuracy scores\n",
    "print(a_score_knn)\n",
    "print(a_score_dt)\n",
    "print(a_score_lr)"
   ]
  },
  {
   "cell_type": "markdown",
   "metadata": {},
   "source": [
    "### F1 Score:\n",
    "The F1 score can be interpreted as a weighted average of the precision and recall, where an F1 score reaches its best value at 1 and worst score at 0. The relative contribution of precision and recall to the F1 score are equal. The formula for the F1 score is:\n",
    "\n",
    "$$ F1 = 2 * \\frac{precision * recall}{precision + recall} $$"
   ]
  },
  {
   "cell_type": "code",
   "execution_count": 16,
   "metadata": {},
   "outputs": [
    {
     "name": "stdout",
     "output_type": "stream",
     "text": [
      "0.07015590200445433\n",
      "0.24155984834807723\n",
      "0.32626188734455014\n"
     ]
    }
   ],
   "source": [
    "from sklearn.metrics import f1_score\n",
    "\n",
    "score_knn = f1_score(y_test, knn_pred)\n",
    "score_dt = f1_score(y_test, dt_pred)\n",
    "score_lr = f1_score(y_test, lr_pred)\n",
    "\n",
    "# Print the f1 scores\n",
    "print(score_knn)\n",
    "print(score_dt)\n",
    "print(score_lr)"
   ]
  },
  {
   "cell_type": "markdown",
   "metadata": {},
   "source": [
    "## heterogeneous ensemble \n",
    "* wisedom of the crowd\n",
    "* use fine-tuned models\n",
    "* small amount of estimators\n",
    "* **voting and average**\n",
    "\n",
    "### 1) voting:"
   ]
  },
  {
   "cell_type": "code",
   "execution_count": 17,
   "metadata": {},
   "outputs": [
    {
     "name": "stdout",
     "output_type": "stream",
     "text": [
      "voting accuracy-Score: 0.8339181286549707\n"
     ]
    }
   ],
   "source": [
    "from sklearn.ensemble import VotingClassifier\n",
    "\n",
    "# Instantiate the individual models\n",
    "\n",
    "knn = KNeighborsClassifier(5)\n",
    "dt = DecisionTreeClassifier()\n",
    "lr = LogisticRegression(random_state=1, class_weight=\"balanced\")\n",
    "\n",
    "# Create and fit the voting classifier\n",
    "clf_vote = VotingClassifier(\n",
    "    estimators=[('knn', knn), ('dt', dt), ('lr', lr)]\n",
    ")\n",
    "clf_vote.fit(X_train, y_train)\n",
    "\n",
    "# Calculate the predictions using the voting classifier\n",
    "pred_vote = clf_vote.predict(X_test)\n",
    "\n",
    "# Calculate the accuracy score of the voting classifier\n",
    "score_vote = accuracy_score(y_test, pred_vote)\n",
    "print('voting accuracy-Score: {:}'.format(score_vote))\n"
   ]
  },
  {
   "cell_type": "markdown",
   "metadata": {},
   "source": [
    "### 2) averaging (soft voting):"
   ]
  },
  {
   "cell_type": "code",
   "execution_count": 18,
   "metadata": {},
   "outputs": [
    {
     "name": "stdout",
     "output_type": "stream",
     "text": [
      "averaging accuracy: 0.8571366688325752\n"
     ]
    }
   ],
   "source": [
    "from sklearn.ensemble import VotingClassifier\n",
    "\n",
    "# Instantiate the individual models\n",
    "\n",
    "knn = KNeighborsClassifier(5)\n",
    "rf = DecisionTreeClassifier()\n",
    "lr = LogisticRegression(random_state=1, class_weight=\"balanced\")\n",
    "\n",
    "# Create and fit the voting classifier\n",
    "clf_avg = VotingClassifier(\n",
    "    estimators=[('knn', knn), ('dt', dt), ('lr', lr)],\n",
    "    voting='soft',\n",
    "    weights=[2, 1, 1]\n",
    ")\n",
    "\n",
    "\n",
    "clf_avg.fit(X_train, y_train)\n",
    "\n",
    "# Calculate the predictions using the voting classifier\n",
    "pred_avg = clf_avg.predict(X_test)\n",
    "\n",
    "# Evaluate model performance\n",
    "acc_avg = accuracy_score(y_test,  pred_avg)\n",
    "print('averaging accuracy: {:}'.format(acc_avg))"
   ]
  },
  {
   "cell_type": "markdown",
   "metadata": {},
   "source": [
    "## homogeneous ensemble\n",
    "\n",
    "* use the small model (weak model) \n",
    "* large amount of estimators\n",
    "* **bagging and boosting**\n",
    "* **random forest** is a special case of bagging\n",
    "\n",
    "Condorcet's jury theorm:\n",
    "1) models are independent\n",
    "2) models are slightly better than random guess\n",
    "3) all individual models have similar performance\n",
    "\n",
    "weak model satisfies 2) and 3), bagging algorithm trains individual models using a random subsample for each which guarantee 1). Bootsraping guarantees some of the characteristics of the crowd. Wisedom of the crowd needs to be divers, through using either different algorithms or datasets.\n",
    "\n",
    "Boostrapping requires:\n",
    "* random subsamples\n",
    "* using replacement\n",
    "\n",
    "Boostrapping guarantees:\n",
    "* diverse crowd (different datasets)\n",
    "* indepenent (separately sampled)\n",
    "\n",
    "### why bagging?\n",
    "pro: \n",
    "* bagging usually reduce variance\n",
    "* Overfitting can be avoided by the ensemble itself\n",
    "\n",
    "con:\n",
    "* computational expensive: time and space\n",
    "\n",
    "### bagging with decision tree as the base estimator:"
   ]
  },
  {
   "cell_type": "code",
   "execution_count": 19,
   "metadata": {},
   "outputs": [
    {
     "name": "stdout",
     "output_type": "stream",
     "text": [
      "decision tree bagging accuracy score: 0.8741173922460472\n"
     ]
    }
   ],
   "source": [
    "from sklearn.ensemble import BaggingClassifier\n",
    "# Instantiate the base model\n",
    "clf_dt = DecisionTreeClassifier(max_depth=4)\n",
    "\n",
    "# Build and train the Bagging classifier\n",
    "clf_bag = BaggingClassifier(\n",
    "  base_estimator=clf_dt,\n",
    "  n_estimators=21,\n",
    "  random_state=500)\n",
    "clf_bag.fit(X_train, y_train)\n",
    "\n",
    "# Predict the labels of the test set\n",
    "pred = clf_bag.predict(X_test)\n",
    "\n",
    "# Show the accuracy score\n",
    "print('decision tree bagging accuracy score: {:}'.format(accuracy_score(y_test, pred)))"
   ]
  },
  {
   "cell_type": "markdown",
   "metadata": {},
   "source": [
    "### RandomForest model to obtain importance of features:"
   ]
  },
  {
   "cell_type": "code",
   "execution_count": 20,
   "metadata": {},
   "outputs": [
    {
     "name": "stdout",
     "output_type": "stream",
     "text": [
      "randomforest accuracy: 0.8722980290231752\n"
     ]
    }
   ],
   "source": [
    "rf = RandomForestClassifier(random_state=1, class_weight=\"balanced\")\n",
    "rf.fit(X_train, y_train)\n",
    "rf_pred=rf.predict(X_test)\n",
    "\n",
    "# Evaluate the performance on the test set to compare\n",
    "print('randomforest accuracy: {:}'.format(accuracy_score(y_test, rf_pred)))"
   ]
  },
  {
   "cell_type": "code",
   "execution_count": 21,
   "metadata": {},
   "outputs": [
    {
     "data": {
      "text/plain": [
       "(array([ 0,  1,  2,  3,  4,  5,  6,  7,  8,  9, 10, 11, 12, 13, 14, 15, 16,\n",
       "        17, 18, 19]), <a list of 20 Text xticklabel objects>)"
      ]
     },
     "execution_count": 21,
     "metadata": {},
     "output_type": "execute_result"
    },
    {
     "data": {
      "image/png": "[encoded data removed]",
      "text/plain": [
       "<Figure size 432x288 with 1 Axes>"
      ]
     },
     "metadata": {
      "needs_background": "light"
     },
     "output_type": "display_data"
    }
   ],
   "source": [
    "feat_labels = df_new.drop('Default', axis=1).columns\n",
    "importances = rf.feature_importances_\n",
    "indices = np.argsort(importances)[::-1]\n",
    "\n",
    "ncomp = 20\n",
    "sns.barplot(x=feat_labels[indices[:ncomp]], y=importances[indices[:ncomp]], color=sns.xkcd_rgb[\"pale red\"])\n",
    "plt.title('Top 20 Feature Importances')\n",
    "plt.ylabel('Relative Feature Importance')\n",
    "plt.xticks(rotation=90)"
   ]
  },
  {
   "cell_type": "markdown",
   "metadata": {},
   "source": [
    "## booster\n",
    "gradual learning\n",
    "* iterating learning\n",
    "* dependent estimators\n",
    "* learning different tasks for the same goal\n",
    "* sequential building\n",
    "\n",
    "Possible steps in gradual learning:\n",
    "1. First attempt (initial model)\n",
    "2. Feedback (model evaluation)\n",
    "3. Correct errors (subsequent model)\n",
    "\n",
    "\n",
    "### Adaptive boosting\n",
    "\n",
    "Instances are drawn using a sample distribution\n",
    "* Difcult instances have higher weights\n",
    "* Initialized to be uniform\n",
    "\n",
    "Estimators are combined with a weighted\n",
    "* majority voting\n",
    "* Good estimators are given higher weights\n",
    "\n",
    "Guaranteed to improve\n",
    "\n",
    "Classication and Regression\n",
    "\n",
    "* base_estimator Default: Decision Tree (max_depth=1)\n",
    "* n_estimators Default: 50\n",
    "* learning_rate Default: 1.0\n",
    "* loss default linear (can be change to square or exponential)\n",
    "* Trade-off between n_estimators and learning_rate"
   ]
  },
  {
   "cell_type": "code",
   "execution_count": 22,
   "metadata": {},
   "outputs": [
    {
     "name": "stdout",
     "output_type": "stream",
     "text": [
      "Adaptive boosting classifier accuracy:  0.8715183019276587\n"
     ]
    }
   ],
   "source": [
    "# Build and fit a tree-based AdaBoost classifier\n",
    "reg_ada = AdaBoostClassifier(n_estimators=12, random_state=500)\n",
    "reg_ada.fit(X_train, y_train)\n",
    "\n",
    "# Calculate the predictions on the test set\n",
    "pred = reg_ada.predict(X_test)\n",
    "\n",
    "# Evaluate the performance using the RMSE\n",
    "print('Adaptive boosting classifier accuracy:  {:}'.format(accuracy_score(y_test, pred)))"
   ]
  },
  {
   "cell_type": "markdown",
   "metadata": {},
   "source": [
    "### Gradient boosting\n",
    "\n",
    "Objective: $$y=f(X) $$\n",
    "1. Initial model (weak estimator): $y = f_{1}(X)$\n",
    "2. New model ts to residuals: $y - f_{1}(X) = f_{2}(X)$\n",
    "3. New additive model: $y = f_{1}(X) + f_{2}(X)$\n",
    "4. Repeat n times or until error is small enough\n",
    "5. Final additive model: $y = f_{1}(X) + f_{2}(X)... + f_{n}(X) = \\Sigma_{1}^{n}f_{X}(X)$\n",
    "\n",
    "**Equivalence to gradient descent**\n",
    "Residual: $$y-f_{i}(X)$$\n",
    "\n",
    "Gradient Descent:\n",
    "$$ loss = \\frac{(f_{i}(X)-y)^2}{2}$$\n",
    "\n",
    "$$gradient = \\frac{\\partial loss}{\\partial f_i} = f_{i}(X)-y$$\n",
    "\n",
    "Residuals = Negative Gradient:\n",
    "$$y-f_{i}(X) = - \\frac{\\partial loss}{\\partial f_i(X)}$$\n",
    "\n",
    "\n",
    "* n_estimators Default: 100\n",
    "* learning_rate Default: 0.1\n",
    "* max_depth Default: 3\n",
    "* min_samples_split\n",
    "* min_samples_leaf\n",
    "* max_features"
   ]
  },
  {
   "cell_type": "code",
   "execution_count": 23,
   "metadata": {},
   "outputs": [
    {
     "name": "stdout",
     "output_type": "stream",
     "text": [
      "Accuracy: 0.8755035737491877\n"
     ]
    }
   ],
   "source": [
    "# Build and fit a Gradient Boosting classifier\n",
    "clf_gbm = GradientBoostingClassifier(n_estimators=100, learning_rate=0.1, random_state=500)\n",
    "clf_gbm.fit(X_train, y_train)\n",
    "\n",
    "# Calculate the predictions on the test set\n",
    "pred = clf_gbm.predict(X_test)\n",
    "\n",
    "# Evaluate the performance based on the accuracy\n",
    "acc = accuracy_score(y_test, pred)\n",
    "print('Accuracy: {:}'.format(acc))"
   ]
  },
  {
   "cell_type": "markdown",
   "metadata": {},
   "source": [
    "### Variations of gradient boosting\n",
    "* Extreme Gradient Boosting: XGBoost\n",
    "* Light Gradient Boosting Machine: LightGBM\n",
    "* Categorical Boosting: CatBoost\n",
    "\n",
    "\n",
    "### Extreme Gradient Boosting\n",
    "* Optimized for distributed computing\n",
    "* Paralleltraining by nature\n",
    "* Scalable, portable, and accurate\n",
    "\n",
    "### Light Gradient Boosting Machine\n",
    "* Released by Microsoft (2017)\n",
    "* Faster training and more efcient\n",
    "* Lighter in terms of space\n",
    "* Optimized for parallel and GPU processing\n",
    "* Useful for problems with big datasets and constraints of speed or memory\n",
    "\n",
    "### Categorical Boosting\n",
    "* Open sourced by Yandex (April 2017)\n",
    "* Built-in handling of categorical features\n",
    "* Accurate and robust\n",
    "* Fast and scalable\n",
    "* User-friendly API\n"
   ]
  },
  {
   "cell_type": "markdown",
   "metadata": {},
   "source": [
    "## XGBClassifier"
   ]
  },
  {
   "cell_type": "code",
   "execution_count": 24,
   "metadata": {},
   "outputs": [
    {
     "name": "stdout",
     "output_type": "stream",
     "text": [
      "Accuracy: 0.8738141650422352\n"
     ]
    }
   ],
   "source": [
    "model=xgb.XGBClassifier(max_depth=2, objective=\"reg:logistic\")\n",
    "model.fit(X_train, y_train)\n",
    "pred=model.predict(X_test)\n",
    "\n",
    "# Evaluate the performance based on the accuracy\n",
    "acc = accuracy_score(y_test, pred)\n",
    "print('Accuracy: {:}'.format(acc))"
   ]
  },
  {
   "cell_type": "markdown",
   "metadata": {},
   "source": [
    "## stacking\n",
    "* alike relay race\n",
    "\n",
    "Very similar to the voting and averaging methods where the whole dataset is used by each model to make prediction, except instead of simply voting or averaging as the combiner to get the final prediction, stacking has a second layer of model which has all the predictions as the input features in addition to the original data. "
   ]
  },
  {
   "cell_type": "markdown",
   "metadata": {},
   "source": [
    "## mlxtend "
   ]
  },
  {
   "cell_type": "code",
   "execution_count": 25,
   "metadata": {},
   "outputs": [
    {
     "name": "stdout",
     "output_type": "stream",
     "text": [
      "Accuracy: 0.8350010829542993\n"
     ]
    }
   ],
   "source": [
    "# Create the first-layer models\n",
    "clf_knn = KNeighborsClassifier(n_neighbors=5, algorithm='ball_tree')\n",
    "clf_dt = DecisionTreeClassifier(min_samples_leaf=5, min_samples_split=15, random_state=500)\n",
    "clf_nb = GaussianNB()\n",
    "\n",
    "# Create the second-layer model (meta-model)\n",
    "clf_lr = LogisticRegression()\n",
    "\n",
    "# Create and fit the stacked model\n",
    "clf_stack = StackingClassifier(classifiers=[clf_knn, clf_dt, clf_nb], meta_classifier=clf_lr)\n",
    "clf_stack.fit(X_train, y_train)\n",
    "\n",
    "# Evaluate the stacked model’s performance\n",
    "print(\"Accuracy: {:}\".format(accuracy_score(y_test, clf_stack.predict(X_test))))"
   ]
  },
  {
   "cell_type": "markdown",
   "metadata": {},
   "source": [
    "## cross validation with Gradient Boosting"
   ]
  },
  {
   "cell_type": "code",
   "execution_count": 28,
   "metadata": {},
   "outputs": [
    {
     "name": "stdout",
     "output_type": "stream",
     "text": [
      "3-fold accuracy: 0.874637210309725\n"
     ]
    }
   ],
   "source": [
    "clf_gbm = GradientBoostingClassifier(n_estimators=100, learning_rate=0.1, random_state=500)\n",
    "\n",
    "# Perform cross-validation\n",
    "cross_val_scores = cross_val_score(clf_gbm, X_train, y_train, scoring=\"accuracy\", cv=3)\n",
    "\n",
    "# Print avg. accuracy\n",
    "print(\"3-fold accuracy:\", np.mean(cross_val_scores))"
   ]
  },
  {
   "cell_type": "markdown",
   "metadata": {},
   "source": [
    "## cross validation and parameter tuning with Gradient Boosting"
   ]
  },
  {
   "cell_type": "code",
   "execution_count": 29,
   "metadata": {},
   "outputs": [],
   "source": [
    "clf_gbm = GradientBoostingClassifier(random_state=500)\n",
    "\n",
    "# Create the parameter grid\n",
    "gbm_param_grid = {\n",
    "    'clf_gbm__learning_rate': np.arange(0.05, 1, 0.05),\n",
    "    'clf_gbm__n_estimators': np.arange(50, 200, 50)\n",
    "}"
   ]
  },
  {
   "cell_type": "code",
   "execution_count": null,
   "metadata": {},
   "outputs": [],
   "source": [
    "# Perform RandomizedSearchCV\n",
    "randomized_acc = RandomizedSearchCV(estimator=clf_gbm,param_distributions=gbm_param_grid, n_iter=2, scoring=\"accuracy\", cv=2,verbose=1)\n",
    "\n",
    "# Fit the estimator\n",
    "randomized_acc.fit(X_train,y_train)\n",
    "\n",
    "# Compute metrics\n",
    "print(randomized_acc.best_score_)\n",
    "print(randomized_acc.best_estimator_)"
   ]
  },
  {
   "cell_type": "code",
   "execution_count": null,
   "metadata": {},
   "outputs": [],
   "source": [
    "pred = randomized_acc.predict(X_test)\n",
    "# Evaluate the performance based on the accuracy\n",
    "acc = accuracy_score(y_test, pred)\n",
    "print('Accuracy: {:}'.format(acc))"
   ]
  },
  {
   "cell_type": "code",
   "execution_count": null,
   "metadata": {},
   "outputs": [],
   "source": [
    "estimator.get_params().keys()"
   ]
  },
  {
   "cell_type": "code",
   "execution_count": null,
   "metadata": {},
   "outputs": [],
   "source": []
  }
 ],
 "metadata": {
  "kernelspec": {
   "display_name": "Python 3",
   "language": "python",
   "name": "python3"
  },
  "language_info": {
   "codemirror_mode": {
    "name": "ipython",
    "version": 3
   },
   "file_extension": ".py",
   "mimetype": "text/x-python",
   "name": "python",
   "nbconvert_exporter": "python",
   "pygments_lexer": "ipython3",
   "version": "3.7.1"
  }
 },
 "nbformat": 4,
 "nbformat_minor": 2
}
