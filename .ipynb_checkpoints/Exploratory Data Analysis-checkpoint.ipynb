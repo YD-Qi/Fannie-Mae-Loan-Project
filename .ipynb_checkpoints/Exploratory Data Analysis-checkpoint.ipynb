{
 "cells": [
  {
   "cell_type": "markdown",
   "metadata": {},
   "source": [
    "# Exploratory Data Analysis"
   ]
  },
  {
   "cell_type": "code",
   "execution_count": 19,
   "metadata": {},
   "outputs": [],
   "source": [
    "# import necessary libs\n",
    "import seaborn as sns\n",
    "import pandas as pd\n",
    "import numpy as np\n",
    "import os\n",
    "import datetime as dt\n",
    "%matplotlib inline\n",
    "import matplotlib.pyplot as plt\n",
    "low_memory=False\n",
    "pd.options.display.float_format = '{:.4f}'.format"
   ]
  },
  {
   "cell_type": "code",
   "execution_count": 4,
   "metadata": {},
   "outputs": [],
   "source": [
    "df = pd.read_csv('/Volumes/Backup Plus/Documents/Data Science/Projects/fannieMae_project/processed_data/Fannie_loans.csv')"
   ]
  },
  {
   "cell_type": "code",
   "execution_count": 9,
   "metadata": {},
   "outputs": [
    {
     "data": {
      "text/plain": [
       "(3194421, 26)"
      ]
     },
     "execution_count": 9,
     "metadata": {},
     "output_type": "execute_result"
    }
   ],
   "source": [
    "df.shape"
   ]
  },
  {
   "cell_type": "code",
   "execution_count": 13,
   "metadata": {},
   "outputs": [],
   "source": [
    "df=df.drop(['Unnamed: 0'], axis=1)"
   ]
  },
  {
   "cell_type": "code",
   "execution_count": 21,
   "metadata": {},
   "outputs": [
    {
     "data": {
      "text/plain": [
       "Index(['OrInterestRate', 'OrUnpaidPrinc', 'OrLoanTerm', 'OrLTV', 'OrCLTV',\n",
       "       'NumBorrowers', 'DTIRat', 'CreditScore', 'NumUnits', 'MortInsPerc',\n",
       "       'CoCreditScore', 'MortInsType', 'Default', 'Channel', 'SellerName',\n",
       "       'FTHomeBuyer', 'LoanPurpose', 'PropertyType', 'OccType',\n",
       "       'PropertyState', 'ProductType', 'RelocationMortgage', 'Zip',\n",
       "       'first_payment_year', 'loan_year'],\n",
       "      dtype='object')"
      ]
     },
     "execution_count": 21,
     "metadata": {},
     "output_type": "execute_result"
    }
   ],
   "source": [
    "df.columns"
   ]
  },
  {
   "cell_type": "code",
   "execution_count": 24,
   "metadata": {},
   "outputs": [
    {
     "data": {
      "text/plain": [
       "OrInterestRate        float64\n",
       "OrUnpaidPrinc           int64\n",
       "OrLoanTerm              int64\n",
       "OrLTV                 float64\n",
       "OrCLTV                float64\n",
       "NumBorrowers          float64\n",
       "DTIRat                float64\n",
       "CreditScore           float64\n",
       "NumUnits                int64\n",
       "MortInsPerc           float64\n",
       "CoCreditScore         float64\n",
       "MortInsType           float64\n",
       "Default                 int64\n",
       "Channel                object\n",
       "SellerName             object\n",
       "FTHomeBuyer            object\n",
       "LoanPurpose            object\n",
       "PropertyType           object\n",
       "OccType                object\n",
       "PropertyState          object\n",
       "ProductType            object\n",
       "RelocationMortgage     object\n",
       "Zip                     int64\n",
       "first_payment_year      int64\n",
       "loan_year               int64\n",
       "dtype: object"
      ]
     },
     "execution_count": 24,
     "metadata": {},
     "output_type": "execute_result"
    }
   ],
   "source": [
    "df.dtypes"
   ]
  },
  {
   "cell_type": "code",
   "execution_count": 47,
   "metadata": {},
   "outputs": [],
   "source": [
    "df[\"loan_year\"]=df[\"loan_year\"].astype(\"category\")"
   ]
  },
  {
   "cell_type": "markdown",
   "metadata": {},
   "source": [
    "### Take a look at defaults"
   ]
  },
  {
   "cell_type": "code",
   "execution_count": 96,
   "metadata": {},
   "outputs": [
    {
     "data": {
      "text/plain": [
       "0    3140482\n",
       "1      53939\n",
       "Name: Default, dtype: int64"
      ]
     },
     "execution_count": 96,
     "metadata": {},
     "output_type": "execute_result"
    }
   ],
   "source": [
    "df['Default'].value_counts()"
   ]
  },
  {
   "cell_type": "code",
   "execution_count": 97,
   "metadata": {},
   "outputs": [
    {
     "data": {
      "text/plain": [
       "0.016885376097890665"
      ]
     },
     "execution_count": 97,
     "metadata": {},
     "output_type": "execute_result"
    }
   ],
   "source": [
    "df['Default'].mean()"
   ]
  },
  {
   "cell_type": "markdown",
   "metadata": {},
   "source": [
    "### When did most defaults happen?"
   ]
  },
  {
   "cell_type": "code",
   "execution_count": 98,
   "metadata": {},
   "outputs": [
    {
     "data": {
      "image/png": "[encoded data removed]",
      "text/plain": [
       "<Figure size 360x360 with 1 Axes>"
      ]
     },
     "metadata": {},
     "output_type": "display_data"
    }
   ],
   "source": [
    "sns.catplot(y=\"Default\",\n",
    "            x=\"loan_year\",\n",
    "            data=df,\n",
    "           kind=\"bar\",\n",
    "           ci=None)\n",
    "# Display plot\n",
    "plt.xticks(rotation=90)\n",
    "plt.show()"
   ]
  },
  {
   "cell_type": "markdown",
   "metadata": {},
   "source": [
    "### Where did most defaults happen?"
   ]
  },
  {
   "cell_type": "code",
   "execution_count": 95,
   "metadata": {},
   "outputs": [
    {
     "data": {
      "text/html": [
       "<div>\n",
       "<style scoped>\n",
       "    .dataframe tbody tr th:only-of-type {\n",
       "        vertical-align: middle;\n",
       "    }\n",
       "\n",
       "    .dataframe tbody tr th {\n",
       "        vertical-align: top;\n",
       "    }\n",
       "\n",
       "    .dataframe thead th {\n",
       "        text-align: right;\n",
       "    }\n",
       "</style>\n",
       "<table border=\"1\" class=\"dataframe\">\n",
       "  <thead>\n",
       "    <tr style=\"text-align: right;\">\n",
       "      <th></th>\n",
       "      <th>PropertyState</th>\n",
       "      <th>Default</th>\n",
       "      <th>number of loans</th>\n",
       "    </tr>\n",
       "  </thead>\n",
       "  <tbody>\n",
       "    <tr>\n",
       "      <th>48</th>\n",
       "      <td>VI</td>\n",
       "      <td>0.0763</td>\n",
       "      <td>131</td>\n",
       "    </tr>\n",
       "    <tr>\n",
       "      <th>9</th>\n",
       "      <td>FL</td>\n",
       "      <td>0.0327</td>\n",
       "      <td>163636</td>\n",
       "    </tr>\n",
       "    <tr>\n",
       "      <th>34</th>\n",
       "      <td>NV</td>\n",
       "      <td>0.0327</td>\n",
       "      <td>39574</td>\n",
       "    </tr>\n",
       "    <tr>\n",
       "      <th>3</th>\n",
       "      <td>AZ</td>\n",
       "      <td>0.0322</td>\n",
       "      <td>100961</td>\n",
       "    </tr>\n",
       "    <tr>\n",
       "      <th>23</th>\n",
       "      <td>MI</td>\n",
       "      <td>0.0283</td>\n",
       "      <td>114225</td>\n",
       "    </tr>\n",
       "    <tr>\n",
       "      <th>10</th>\n",
       "      <td>GA</td>\n",
       "      <td>0.0247</td>\n",
       "      <td>88820</td>\n",
       "    </tr>\n",
       "    <tr>\n",
       "      <th>36</th>\n",
       "      <td>OH</td>\n",
       "      <td>0.0237</td>\n",
       "      <td>126324</td>\n",
       "    </tr>\n",
       "    <tr>\n",
       "      <th>16</th>\n",
       "      <td>IN</td>\n",
       "      <td>0.0215</td>\n",
       "      <td>89454</td>\n",
       "    </tr>\n",
       "    <tr>\n",
       "      <th>52</th>\n",
       "      <td>WV</td>\n",
       "      <td>0.0198</td>\n",
       "      <td>10641</td>\n",
       "    </tr>\n",
       "    <tr>\n",
       "      <th>40</th>\n",
       "      <td>PR</td>\n",
       "      <td>0.0197</td>\n",
       "      <td>7103</td>\n",
       "    </tr>\n",
       "  </tbody>\n",
       "</table>\n",
       "</div>"
      ],
      "text/plain": [
       "   PropertyState  Default  number of loans\n",
       "48            VI   0.0763              131\n",
       "9             FL   0.0327           163636\n",
       "34            NV   0.0327            39574\n",
       "3             AZ   0.0322           100961\n",
       "23            MI   0.0283           114225\n",
       "10            GA   0.0247            88820\n",
       "36            OH   0.0237           126324\n",
       "16            IN   0.0215            89454\n",
       "52            WV   0.0198            10641\n",
       "40            PR   0.0197             7103"
      ]
     },
     "execution_count": 95,
     "metadata": {},
     "output_type": "execute_result"
    }
   ],
   "source": [
    "default_states=df.groupby('PropertyState', as_index=False).agg({\"Default\": \"mean\", \"OrInterestRate\": \"count\"})\n",
    "default_states.rename(columns={'OrInterestRate':'number of loans'}, inplace=True)\n",
    "default_states.sort_values(by=['Default'], ascending=False).head(10)"
   ]
  },
  {
   "cell_type": "markdown",
   "metadata": {},
   "source": [
    "### Which banks have the highest default rates?"
   ]
  },
  {
   "cell_type": "code",
   "execution_count": 93,
   "metadata": {},
   "outputs": [
    {
     "data": {
      "text/html": [
       "<div>\n",
       "<style scoped>\n",
       "    .dataframe tbody tr th:only-of-type {\n",
       "        vertical-align: middle;\n",
       "    }\n",
       "\n",
       "    .dataframe tbody tr th {\n",
       "        vertical-align: top;\n",
       "    }\n",
       "\n",
       "    .dataframe thead th {\n",
       "        text-align: right;\n",
       "    }\n",
       "</style>\n",
       "<table border=\"1\" class=\"dataframe\">\n",
       "  <thead>\n",
       "    <tr style=\"text-align: right;\">\n",
       "      <th></th>\n",
       "      <th>SellerName</th>\n",
       "      <th>Default</th>\n",
       "      <th>number of loans</th>\n",
       "    </tr>\n",
       "  </thead>\n",
       "  <tbody>\n",
       "    <tr>\n",
       "      <th>73</th>\n",
       "      <td>PULTE MORTGAGE, L.L.C.</td>\n",
       "      <td>0.2025</td>\n",
       "      <td>316</td>\n",
       "    </tr>\n",
       "    <tr>\n",
       "      <th>25</th>\n",
       "      <td>FDIC, RECEIVER, INDYMAC FEDERAL BANK FSB</td>\n",
       "      <td>0.2000</td>\n",
       "      <td>70</td>\n",
       "    </tr>\n",
       "    <tr>\n",
       "      <th>11</th>\n",
       "      <td>CHASE HOME FINANCE (CIE 1)</td>\n",
       "      <td>0.1860</td>\n",
       "      <td>86</td>\n",
       "    </tr>\n",
       "    <tr>\n",
       "      <th>10</th>\n",
       "      <td>CHASE HOME FINANCE</td>\n",
       "      <td>0.1066</td>\n",
       "      <td>2739</td>\n",
       "    </tr>\n",
       "    <tr>\n",
       "      <th>13</th>\n",
       "      <td>CHASE HOME FINANCE, LLC</td>\n",
       "      <td>0.0911</td>\n",
       "      <td>2601</td>\n",
       "    </tr>\n",
       "    <tr>\n",
       "      <th>69</th>\n",
       "      <td>PNC BANK, N.A.</td>\n",
       "      <td>0.0735</td>\n",
       "      <td>18188</td>\n",
       "    </tr>\n",
       "    <tr>\n",
       "      <th>12</th>\n",
       "      <td>CHASE HOME FINANCE FRANKLIN AMERICAN MORTGAGE ...</td>\n",
       "      <td>0.0617</td>\n",
       "      <td>535</td>\n",
       "    </tr>\n",
       "    <tr>\n",
       "      <th>60</th>\n",
       "      <td>OLD KENT MORTGAGE COMPANY</td>\n",
       "      <td>0.0541</td>\n",
       "      <td>37</td>\n",
       "    </tr>\n",
       "    <tr>\n",
       "      <th>32</th>\n",
       "      <td>FLAGSTAR CAPITAL MARKETS CORPORATION</td>\n",
       "      <td>0.0515</td>\n",
       "      <td>24722</td>\n",
       "    </tr>\n",
       "    <tr>\n",
       "      <th>5</th>\n",
       "      <td>BANK OF AMERICA, N.A.</td>\n",
       "      <td>0.0499</td>\n",
       "      <td>352113</td>\n",
       "    </tr>\n",
       "  </tbody>\n",
       "</table>\n",
       "</div>"
      ],
      "text/plain": [
       "                                           SellerName  Default  \\\n",
       "73                             PULTE MORTGAGE, L.L.C.   0.2025   \n",
       "25           FDIC, RECEIVER, INDYMAC FEDERAL BANK FSB   0.2000   \n",
       "11                         CHASE HOME FINANCE (CIE 1)   0.1860   \n",
       "10                                 CHASE HOME FINANCE   0.1066   \n",
       "13                            CHASE HOME FINANCE, LLC   0.0911   \n",
       "69                                     PNC BANK, N.A.   0.0735   \n",
       "12  CHASE HOME FINANCE FRANKLIN AMERICAN MORTGAGE ...   0.0617   \n",
       "60                          OLD KENT MORTGAGE COMPANY   0.0541   \n",
       "32               FLAGSTAR CAPITAL MARKETS CORPORATION   0.0515   \n",
       "5                               BANK OF AMERICA, N.A.   0.0499   \n",
       "\n",
       "    number of loans  \n",
       "73              316  \n",
       "25               70  \n",
       "11               86  \n",
       "10             2739  \n",
       "13             2601  \n",
       "69            18188  \n",
       "12              535  \n",
       "60               37  \n",
       "32            24722  \n",
       "5            352113  "
      ]
     },
     "execution_count": 93,
     "metadata": {},
     "output_type": "execute_result"
    }
   ],
   "source": [
    "default_banks=df.groupby('SellerName', as_index=False).agg({\"Default\": \"mean\", \"OrInterestRate\": \"count\"})\n",
    "default_banks.rename(columns={'OrInterestRate':'number of loans'}, inplace=True)\n",
    "default_banks.sort_values(by=['Default'], ascending=False).head(10)"
   ]
  },
  {
   "cell_type": "code",
   "execution_count": 94,
   "metadata": {},
   "outputs": [
    {
     "data": {
      "text/html": [
       "<div>\n",
       "<style scoped>\n",
       "    .dataframe tbody tr th:only-of-type {\n",
       "        vertical-align: middle;\n",
       "    }\n",
       "\n",
       "    .dataframe tbody tr th {\n",
       "        vertical-align: top;\n",
       "    }\n",
       "\n",
       "    .dataframe thead th {\n",
       "        text-align: right;\n",
       "    }\n",
       "</style>\n",
       "<table border=\"1\" class=\"dataframe\">\n",
       "  <thead>\n",
       "    <tr style=\"text-align: right;\">\n",
       "      <th></th>\n",
       "      <th>SellerName</th>\n",
       "      <th>Default</th>\n",
       "      <th>number of loans</th>\n",
       "    </tr>\n",
       "  </thead>\n",
       "  <tbody>\n",
       "    <tr>\n",
       "      <th>61</th>\n",
       "      <td>OTHER</td>\n",
       "      <td>0.0095</td>\n",
       "      <td>1342206</td>\n",
       "    </tr>\n",
       "    <tr>\n",
       "      <th>93</th>\n",
       "      <td>WELLS FARGO BANK, N.A.</td>\n",
       "      <td>0.0072</td>\n",
       "      <td>385923</td>\n",
       "    </tr>\n",
       "    <tr>\n",
       "      <th>5</th>\n",
       "      <td>BANK OF AMERICA, N.A.</td>\n",
       "      <td>0.0499</td>\n",
       "      <td>352113</td>\n",
       "    </tr>\n",
       "    <tr>\n",
       "      <th>31</th>\n",
       "      <td>FLAGSTAR BANK, FSB</td>\n",
       "      <td>0.0257</td>\n",
       "      <td>88415</td>\n",
       "    </tr>\n",
       "    <tr>\n",
       "      <th>50</th>\n",
       "      <td>JPMORGAN CHASE BANK, NATIONAL ASSOCIATION</td>\n",
       "      <td>0.0041</td>\n",
       "      <td>78540</td>\n",
       "    </tr>\n",
       "    <tr>\n",
       "      <th>74</th>\n",
       "      <td>QUICKEN LOANS INC.</td>\n",
       "      <td>0.0011</td>\n",
       "      <td>74520</td>\n",
       "    </tr>\n",
       "    <tr>\n",
       "      <th>16</th>\n",
       "      <td>CITIMORTGAGE, INC.</td>\n",
       "      <td>0.0346</td>\n",
       "      <td>71784</td>\n",
       "    </tr>\n",
       "    <tr>\n",
       "      <th>38</th>\n",
       "      <td>GMAC MORTGAGE, LLC</td>\n",
       "      <td>0.0327</td>\n",
       "      <td>69823</td>\n",
       "    </tr>\n",
       "    <tr>\n",
       "      <th>49</th>\n",
       "      <td>JPMORGAN CHASE BANK, NA</td>\n",
       "      <td>0.0177</td>\n",
       "      <td>60127</td>\n",
       "    </tr>\n",
       "    <tr>\n",
       "      <th>83</th>\n",
       "      <td>SUNTRUST MORTGAGE INC.</td>\n",
       "      <td>0.0407</td>\n",
       "      <td>58917</td>\n",
       "    </tr>\n",
       "  </tbody>\n",
       "</table>\n",
       "</div>"
      ],
      "text/plain": [
       "                                   SellerName  Default  number of loans\n",
       "61                                      OTHER   0.0095          1342206\n",
       "93                     WELLS FARGO BANK, N.A.   0.0072           385923\n",
       "5                       BANK OF AMERICA, N.A.   0.0499           352113\n",
       "31                         FLAGSTAR BANK, FSB   0.0257            88415\n",
       "50  JPMORGAN CHASE BANK, NATIONAL ASSOCIATION   0.0041            78540\n",
       "74                         QUICKEN LOANS INC.   0.0011            74520\n",
       "16                         CITIMORTGAGE, INC.   0.0346            71784\n",
       "38                         GMAC MORTGAGE, LLC   0.0327            69823\n",
       "49                    JPMORGAN CHASE BANK, NA   0.0177            60127\n",
       "83                     SUNTRUST MORTGAGE INC.   0.0407            58917"
      ]
     },
     "execution_count": 94,
     "metadata": {},
     "output_type": "execute_result"
    }
   ],
   "source": [
    "default_banks.sort_values(by=['number of loans'], ascending=False).head(10)"
   ]
  },
  {
   "cell_type": "markdown",
   "metadata": {},
   "source": [
    "### What were the characteristics of home buyers who defaulted? "
   ]
  },
  {
   "cell_type": "code",
   "execution_count": 60,
   "metadata": {},
   "outputs": [
    {
     "data": {
      "image/png": "[encoded data removed]",
      "text/plain": [
       "<Figure size 360x360 with 1 Axes>"
      ]
     },
     "metadata": {},
     "output_type": "display_data"
    }
   ],
   "source": [
    "sns.catplot(y=\"CreditScore\",\n",
    "            x=\"Default\",\n",
    "            data=df,\n",
    "           kind=\"box\",\n",
    "            whis=[0, 100],\n",
    "           ci=None)\n",
    "plt.xticks(rotation=90)\n",
    "# Display plot\n",
    "plt.show()"
   ]
  },
  {
   "cell_type": "code",
   "execution_count": 61,
   "metadata": {},
   "outputs": [
    {
     "data": {
      "image/png": "[encoded data removed]",
      "text/plain": [
       "<Figure size 360x360 with 1 Axes>"
      ]
     },
     "metadata": {},
     "output_type": "display_data"
    }
   ],
   "source": [
    "sns.catplot(y=\"DTIRat\",\n",
    "            x=\"Default\",\n",
    "            data=df,\n",
    "           kind=\"box\",\n",
    "            whis=[0, 100],\n",
    "           ci=None)\n",
    "plt.xticks(rotation=90)\n",
    "# Display plot\n",
    "plt.show()"
   ]
  },
  {
   "cell_type": "code",
   "execution_count": 99,
   "metadata": {},
   "outputs": [
    {
     "data": {
      "image/png": "[encoded data removed]",
      "text/plain": [
       "<Figure size 360x360 with 1 Axes>"
      ]
     },
     "metadata": {},
     "output_type": "display_data"
    }
   ],
   "source": [
    "sns.catplot(y=\"CreditScore\",\n",
    "            x=\"loan_year\",\n",
    "            data=df,\n",
    "           kind=\"bar\",\n",
    "           ci=None)\n",
    "# Display plot\n",
    "plt.xticks(rotation=90)\n",
    "plt.show()"
   ]
  },
  {
   "cell_type": "code",
   "execution_count": 100,
   "metadata": {},
   "outputs": [
    {
     "data": {
      "image/png": "[encoded data removed]",
      "text/plain": [
       "<Figure size 360x360 with 1 Axes>"
      ]
     },
     "metadata": {},
     "output_type": "display_data"
    }
   ],
   "source": [
    "sns.catplot(y=\"CreditScore\",\n",
    "            x=\"loan_year\",\n",
    "            data=df,\n",
    "           kind=\"box\",\n",
    "            whis=[0, 100],\n",
    "           ci=None)\n",
    "plt.xticks(rotation=90)\n",
    "# Display plot\n",
    "plt.show()"
   ]
  },
  {
   "cell_type": "code",
   "execution_count": null,
   "metadata": {},
   "outputs": [],
   "source": []
  },
  {
   "cell_type": "code",
   "execution_count": null,
   "metadata": {},
   "outputs": [],
   "source": []
  },
  {
   "cell_type": "code",
   "execution_count": null,
   "metadata": {},
   "outputs": [],
   "source": []
  },
  {
   "cell_type": "code",
   "execution_count": null,
   "metadata": {},
   "outputs": [],
   "source": []
  },
  {
   "cell_type": "code",
   "execution_count": null,
   "metadata": {},
   "outputs": [],
   "source": []
  },
  {
   "cell_type": "code",
   "execution_count": null,
   "metadata": {},
   "outputs": [],
   "source": []
  }
 ],
 "metadata": {
  "kernelspec": {
   "display_name": "Python 3",
   "language": "python",
   "name": "python3"
  },
  "language_info": {
   "codemirror_mode": {
    "name": "ipython",
    "version": 3
   },
   "file_extension": ".py",
   "mimetype": "text/x-python",
   "name": "python",
   "nbconvert_exporter": "python",
   "pygments_lexer": "ipython3",
   "version": "3.7.1"
  }
 },
 "nbformat": 4,
 "nbformat_minor": 2
}
